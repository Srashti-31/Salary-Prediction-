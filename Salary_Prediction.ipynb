{
 "cells": [
  {
   "cell_type": "markdown",
   "metadata": {},
   "source": [
    "# SALARY  PREDICTION"
   ]
  },
  {
   "cell_type": "raw",
   "metadata": {},
   "source": [
    "This notebook have done analysis on salary prediction from the data provided by UCI machine learning repository.\n",
    "The project aims to predict whether the salary of a person is above or below or equal to 50k.\n",
    "The orginal data was modified, analyzed, changed, corrected and cleaned.\n",
    "Some of the features were removed from the data and rest were used in this notebook for better accuracy.\n",
    "The features used are mentioned below:\n",
    "1)age: continuous. (Age of an individual)\n",
    "2)capital-loss: continuous.\n",
    "3)fnlwgt: continuous. (this is the number of people the census believes the entry represents)\n",
    "4)education: Bachelors, Some-college, 11th, HS-grad, Prof-school, Assoc-acdm, Assoc-voc, 9th, 7th-8th, 12th, Masters, 1st-4th, 10th, Doctorate, 5th-6th, Preschool. (highest level of education achieved by an individual)\n",
    "5)education-num: continuous. (education level in numeric form)\n",
    "6)marital-status: Married-civ-spouse, Divorced, Never-married, Separated, Widowed, Married-spouse-absent, Married-AF-spouse.\n",
    "7)hours-per-week: continuous. (the hours an individual has reported to work per week)\n",
    "8)relationship: Wife, Own-child, Husband, Not-in-family, Other-relative, Unmarried.\n",
    "9)race: White, Asian-Pac-Islander, Amer-Indian-Eskimo, Other, Black.\n",
    "10)sex: Female, Male.\n",
    "11)capital-gain: continuous."
   ]
  },
  {
   "cell_type": "code",
   "execution_count": 1,
   "metadata": {},
   "outputs": [],
   "source": [
    "#importing pandas library which is used for data manipulation and analysis.\n",
    "import pandas as pd"
   ]
  },
  {
   "cell_type": "code",
   "execution_count": 2,
   "metadata": {},
   "outputs": [],
   "source": [
    "#importing numpy library which helps with calculations\n",
    "import numpy as np"
   ]
  },
  {
   "cell_type": "code",
   "execution_count": 3,
   "metadata": {},
   "outputs": [],
   "source": [
    "#reading the excel file.\n",
    "salary = pd.read_csv(\"data.csv\")\n",
    "#dealing with missing or improper values\n",
    "salary = salary.replace(to_replace =\"?\", value =\"\") "
   ]
  },
  {
   "cell_type": "code",
   "execution_count": 4,
   "metadata": {},
   "outputs": [
    {
     "data": {
      "text/html": [
       "<div>\n",
       "<style scoped>\n",
       "    .dataframe tbody tr th:only-of-type {\n",
       "        vertical-align: middle;\n",
       "    }\n",
       "\n",
       "    .dataframe tbody tr th {\n",
       "        vertical-align: top;\n",
       "    }\n",
       "\n",
       "    .dataframe thead th {\n",
       "        text-align: right;\n",
       "    }\n",
       "</style>\n",
       "<table border=\"1\" class=\"dataframe\">\n",
       "  <thead>\n",
       "    <tr style=\"text-align: right;\">\n",
       "      <th></th>\n",
       "      <th>AGE</th>\n",
       "      <th>CAPITAL-LOSS</th>\n",
       "      <th>FNLWGT</th>\n",
       "      <th>EDUCATION</th>\n",
       "      <th>EDUCATION-NUM</th>\n",
       "      <th>MARITAL-STATUS</th>\n",
       "      <th>HOURS-PER-WEEK</th>\n",
       "      <th>RELATIONSHIP</th>\n",
       "      <th>RACE</th>\n",
       "      <th>SEX</th>\n",
       "      <th>CAPITAL-GAIN</th>\n",
       "      <th>CLASS</th>\n",
       "    </tr>\n",
       "  </thead>\n",
       "  <tbody>\n",
       "    <tr>\n",
       "      <th>0</th>\n",
       "      <td>39.0</td>\n",
       "      <td>0</td>\n",
       "      <td>77516</td>\n",
       "      <td>9</td>\n",
       "      <td>13</td>\n",
       "      <td>3</td>\n",
       "      <td>40</td>\n",
       "      <td>4</td>\n",
       "      <td>1</td>\n",
       "      <td>2</td>\n",
       "      <td>2174</td>\n",
       "      <td>1</td>\n",
       "    </tr>\n",
       "    <tr>\n",
       "      <th>1</th>\n",
       "      <td>50.0</td>\n",
       "      <td>0</td>\n",
       "      <td>83311</td>\n",
       "      <td>9</td>\n",
       "      <td>13</td>\n",
       "      <td>1</td>\n",
       "      <td>13</td>\n",
       "      <td>3</td>\n",
       "      <td>1</td>\n",
       "      <td>2</td>\n",
       "      <td>0</td>\n",
       "      <td>1</td>\n",
       "    </tr>\n",
       "    <tr>\n",
       "      <th>2</th>\n",
       "      <td>38.0</td>\n",
       "      <td>0</td>\n",
       "      <td>215646</td>\n",
       "      <td>8</td>\n",
       "      <td>9</td>\n",
       "      <td>2</td>\n",
       "      <td>40</td>\n",
       "      <td>4</td>\n",
       "      <td>1</td>\n",
       "      <td>2</td>\n",
       "      <td>0</td>\n",
       "      <td>1</td>\n",
       "    </tr>\n",
       "    <tr>\n",
       "      <th>3</th>\n",
       "      <td>53.0</td>\n",
       "      <td>0</td>\n",
       "      <td>234721</td>\n",
       "      <td>6</td>\n",
       "      <td>7</td>\n",
       "      <td>1</td>\n",
       "      <td>40</td>\n",
       "      <td>3</td>\n",
       "      <td>4</td>\n",
       "      <td>2</td>\n",
       "      <td>0</td>\n",
       "      <td>1</td>\n",
       "    </tr>\n",
       "    <tr>\n",
       "      <th>4</th>\n",
       "      <td>28.0</td>\n",
       "      <td>0</td>\n",
       "      <td>338409</td>\n",
       "      <td>9</td>\n",
       "      <td>13</td>\n",
       "      <td>1</td>\n",
       "      <td>40</td>\n",
       "      <td>1</td>\n",
       "      <td>4</td>\n",
       "      <td>1</td>\n",
       "      <td>0</td>\n",
       "      <td>1</td>\n",
       "    </tr>\n",
       "  </tbody>\n",
       "</table>\n",
       "</div>"
      ],
      "text/plain": [
       "    AGE  CAPITAL-LOSS  FNLWGT  EDUCATION  EDUCATION-NUM  MARITAL-STATUS  \\\n",
       "0  39.0             0   77516          9             13               3   \n",
       "1  50.0             0   83311          9             13               1   \n",
       "2  38.0             0  215646          8              9               2   \n",
       "3  53.0             0  234721          6              7               1   \n",
       "4  28.0             0  338409          9             13               1   \n",
       "\n",
       "   HOURS-PER-WEEK  RELATIONSHIP  RACE  SEX  CAPITAL-GAIN  CLASS  \n",
       "0              40             4     1    2          2174      1  \n",
       "1              13             3     1    2             0      1  \n",
       "2              40             4     1    2             0      1  \n",
       "3              40             3     4    2             0      1  \n",
       "4              40             1     4    1             0      1  "
      ]
     },
     "execution_count": 4,
     "metadata": {},
     "output_type": "execute_result"
    }
   ],
   "source": [
    "#for first five columns\n",
    "salary.head()\n",
    "#use salary.tail() to view last five columns "
   ]
  },
  {
   "cell_type": "code",
   "execution_count": 5,
   "metadata": {},
   "outputs": [
    {
     "name": "stdout",
     "output_type": "stream",
     "text": [
      "<class 'pandas.core.frame.DataFrame'>\n",
      "RangeIndex: 32561 entries, 0 to 32560\n",
      "Data columns (total 12 columns):\n",
      " #   Column          Non-Null Count  Dtype  \n",
      "---  ------          --------------  -----  \n",
      " 0   AGE             32560 non-null  float64\n",
      " 1   CAPITAL-LOSS    32561 non-null  int64  \n",
      " 2   FNLWGT          32561 non-null  int64  \n",
      " 3   EDUCATION       32561 non-null  int64  \n",
      " 4   EDUCATION-NUM   32561 non-null  int64  \n",
      " 5   MARITAL-STATUS  32561 non-null  int64  \n",
      " 6   HOURS-PER-WEEK  32561 non-null  int64  \n",
      " 7   RELATIONSHIP    32561 non-null  int64  \n",
      " 8   RACE            32561 non-null  int64  \n",
      " 9   SEX             32561 non-null  int64  \n",
      " 10  CAPITAL-GAIN    32561 non-null  int64  \n",
      " 11  CLASS           32561 non-null  int64  \n",
      "dtypes: float64(1), int64(11)\n",
      "memory usage: 3.0 MB\n"
     ]
    }
   ],
   "source": [
    "#data information\n",
    "salary.info()"
   ]
  },
  {
   "cell_type": "code",
   "execution_count": 6,
   "metadata": {},
   "outputs": [
    {
     "data": {
      "text/plain": [
       "2    21790\n",
       "1    10771\n",
       "Name: SEX, dtype: int64"
      ]
     },
     "execution_count": 6,
     "metadata": {},
     "output_type": "execute_result"
    }
   ],
   "source": [
    "#checking specific features and finding their value count.\n",
    "salary[\"SEX\"].value_counts()\n",
    "#1==female and 2==male"
   ]
  },
  {
   "cell_type": "code",
   "execution_count": 7,
   "metadata": {},
   "outputs": [
    {
     "data": {
      "text/html": [
       "<div>\n",
       "<style scoped>\n",
       "    .dataframe tbody tr th:only-of-type {\n",
       "        vertical-align: middle;\n",
       "    }\n",
       "\n",
       "    .dataframe tbody tr th {\n",
       "        vertical-align: top;\n",
       "    }\n",
       "\n",
       "    .dataframe thead th {\n",
       "        text-align: right;\n",
       "    }\n",
       "</style>\n",
       "<table border=\"1\" class=\"dataframe\">\n",
       "  <thead>\n",
       "    <tr style=\"text-align: right;\">\n",
       "      <th></th>\n",
       "      <th>AGE</th>\n",
       "      <th>CAPITAL-LOSS</th>\n",
       "      <th>FNLWGT</th>\n",
       "      <th>EDUCATION</th>\n",
       "      <th>EDUCATION-NUM</th>\n",
       "      <th>MARITAL-STATUS</th>\n",
       "      <th>HOURS-PER-WEEK</th>\n",
       "      <th>RELATIONSHIP</th>\n",
       "      <th>RACE</th>\n",
       "      <th>SEX</th>\n",
       "      <th>CAPITAL-GAIN</th>\n",
       "      <th>CLASS</th>\n",
       "    </tr>\n",
       "  </thead>\n",
       "  <tbody>\n",
       "    <tr>\n",
       "      <th>count</th>\n",
       "      <td>32560.000000</td>\n",
       "      <td>32561.000000</td>\n",
       "      <td>3.256100e+04</td>\n",
       "      <td>32561.000000</td>\n",
       "      <td>32561.000000</td>\n",
       "      <td>32561.000000</td>\n",
       "      <td>32561.000000</td>\n",
       "      <td>32561.000000</td>\n",
       "      <td>32561.000000</td>\n",
       "      <td>32561.000000</td>\n",
       "      <td>32561.000000</td>\n",
       "      <td>32561.000000</td>\n",
       "    </tr>\n",
       "    <tr>\n",
       "      <th>mean</th>\n",
       "      <td>38.581603</td>\n",
       "      <td>87.303830</td>\n",
       "      <td>1.897784e+05</td>\n",
       "      <td>8.905316</td>\n",
       "      <td>10.080679</td>\n",
       "      <td>2.077485</td>\n",
       "      <td>40.437456</td>\n",
       "      <td>3.380854</td>\n",
       "      <td>1.363809</td>\n",
       "      <td>1.669205</td>\n",
       "      <td>1077.648844</td>\n",
       "      <td>0.759190</td>\n",
       "    </tr>\n",
       "    <tr>\n",
       "      <th>std</th>\n",
       "      <td>13.640640</td>\n",
       "      <td>402.960219</td>\n",
       "      <td>1.055500e+05</td>\n",
       "      <td>2.419509</td>\n",
       "      <td>2.572720</td>\n",
       "      <td>1.185543</td>\n",
       "      <td>12.347429</td>\n",
       "      <td>1.237468</td>\n",
       "      <td>0.936043</td>\n",
       "      <td>0.470506</td>\n",
       "      <td>7385.292085</td>\n",
       "      <td>0.427581</td>\n",
       "    </tr>\n",
       "    <tr>\n",
       "      <th>min</th>\n",
       "      <td>17.000000</td>\n",
       "      <td>0.000000</td>\n",
       "      <td>1.228500e+04</td>\n",
       "      <td>0.000000</td>\n",
       "      <td>1.000000</td>\n",
       "      <td>1.000000</td>\n",
       "      <td>1.000000</td>\n",
       "      <td>1.000000</td>\n",
       "      <td>1.000000</td>\n",
       "      <td>1.000000</td>\n",
       "      <td>0.000000</td>\n",
       "      <td>0.000000</td>\n",
       "    </tr>\n",
       "    <tr>\n",
       "      <th>25%</th>\n",
       "      <td>28.000000</td>\n",
       "      <td>0.000000</td>\n",
       "      <td>1.178270e+05</td>\n",
       "      <td>8.000000</td>\n",
       "      <td>9.000000</td>\n",
       "      <td>1.000000</td>\n",
       "      <td>40.000000</td>\n",
       "      <td>3.000000</td>\n",
       "      <td>1.000000</td>\n",
       "      <td>1.000000</td>\n",
       "      <td>0.000000</td>\n",
       "      <td>1.000000</td>\n",
       "    </tr>\n",
       "    <tr>\n",
       "      <th>50%</th>\n",
       "      <td>37.000000</td>\n",
       "      <td>0.000000</td>\n",
       "      <td>1.783560e+05</td>\n",
       "      <td>9.000000</td>\n",
       "      <td>10.000000</td>\n",
       "      <td>2.000000</td>\n",
       "      <td>40.000000</td>\n",
       "      <td>3.000000</td>\n",
       "      <td>1.000000</td>\n",
       "      <td>2.000000</td>\n",
       "      <td>0.000000</td>\n",
       "      <td>1.000000</td>\n",
       "    </tr>\n",
       "    <tr>\n",
       "      <th>75%</th>\n",
       "      <td>48.000000</td>\n",
       "      <td>0.000000</td>\n",
       "      <td>2.370510e+05</td>\n",
       "      <td>10.000000</td>\n",
       "      <td>12.000000</td>\n",
       "      <td>3.000000</td>\n",
       "      <td>45.000000</td>\n",
       "      <td>4.000000</td>\n",
       "      <td>1.000000</td>\n",
       "      <td>2.000000</td>\n",
       "      <td>0.000000</td>\n",
       "      <td>1.000000</td>\n",
       "    </tr>\n",
       "    <tr>\n",
       "      <th>max</th>\n",
       "      <td>90.000000</td>\n",
       "      <td>4356.000000</td>\n",
       "      <td>1.484705e+06</td>\n",
       "      <td>15.000000</td>\n",
       "      <td>16.000000</td>\n",
       "      <td>7.000000</td>\n",
       "      <td>99.000000</td>\n",
       "      <td>6.000000</td>\n",
       "      <td>4.000000</td>\n",
       "      <td>2.000000</td>\n",
       "      <td>99999.000000</td>\n",
       "      <td>1.000000</td>\n",
       "    </tr>\n",
       "  </tbody>\n",
       "</table>\n",
       "</div>"
      ],
      "text/plain": [
       "                AGE  CAPITAL-LOSS        FNLWGT     EDUCATION  EDUCATION-NUM  \\\n",
       "count  32560.000000  32561.000000  3.256100e+04  32561.000000   32561.000000   \n",
       "mean      38.581603     87.303830  1.897784e+05      8.905316      10.080679   \n",
       "std       13.640640    402.960219  1.055500e+05      2.419509       2.572720   \n",
       "min       17.000000      0.000000  1.228500e+04      0.000000       1.000000   \n",
       "25%       28.000000      0.000000  1.178270e+05      8.000000       9.000000   \n",
       "50%       37.000000      0.000000  1.783560e+05      9.000000      10.000000   \n",
       "75%       48.000000      0.000000  2.370510e+05     10.000000      12.000000   \n",
       "max       90.000000   4356.000000  1.484705e+06     15.000000      16.000000   \n",
       "\n",
       "       MARITAL-STATUS  HOURS-PER-WEEK  RELATIONSHIP          RACE  \\\n",
       "count    32561.000000    32561.000000  32561.000000  32561.000000   \n",
       "mean         2.077485       40.437456      3.380854      1.363809   \n",
       "std          1.185543       12.347429      1.237468      0.936043   \n",
       "min          1.000000        1.000000      1.000000      1.000000   \n",
       "25%          1.000000       40.000000      3.000000      1.000000   \n",
       "50%          2.000000       40.000000      3.000000      1.000000   \n",
       "75%          3.000000       45.000000      4.000000      1.000000   \n",
       "max          7.000000       99.000000      6.000000      4.000000   \n",
       "\n",
       "                SEX  CAPITAL-GAIN         CLASS  \n",
       "count  32561.000000  32561.000000  32561.000000  \n",
       "mean       1.669205   1077.648844      0.759190  \n",
       "std        0.470506   7385.292085      0.427581  \n",
       "min        1.000000      0.000000      0.000000  \n",
       "25%        1.000000      0.000000      1.000000  \n",
       "50%        2.000000      0.000000      1.000000  \n",
       "75%        2.000000      0.000000      1.000000  \n",
       "max        2.000000  99999.000000      1.000000  "
      ]
     },
     "execution_count": 7,
     "metadata": {},
     "output_type": "execute_result"
    }
   ],
   "source": [
    "#analyzing whole data\n",
    "salary.describe()"
   ]
  },
  {
   "cell_type": "code",
   "execution_count": 8,
   "metadata": {},
   "outputs": [
    {
     "data": {
      "text/plain": [
       "array([[<matplotlib.axes._subplots.AxesSubplot object at 0x0000006B6D19E7F0>,\n",
       "        <matplotlib.axes._subplots.AxesSubplot object at 0x0000006B6D87CD30>,\n",
       "        <matplotlib.axes._subplots.AxesSubplot object at 0x0000006B6D8BE320>],\n",
       "       [<matplotlib.axes._subplots.AxesSubplot object at 0x0000006B6D8EF8D0>,\n",
       "        <matplotlib.axes._subplots.AxesSubplot object at 0x0000006B6D91FE80>,\n",
       "        <matplotlib.axes._subplots.AxesSubplot object at 0x0000006B6D95C470>],\n",
       "       [<matplotlib.axes._subplots.AxesSubplot object at 0x0000006B6D98CA20>,\n",
       "        <matplotlib.axes._subplots.AxesSubplot object at 0x0000006B6D9BEFD0>,\n",
       "        <matplotlib.axes._subplots.AxesSubplot object at 0x0000006B6D9CC080>],\n",
       "       [<matplotlib.axes._subplots.AxesSubplot object at 0x0000006B6DA2CB70>,\n",
       "        <matplotlib.axes._subplots.AxesSubplot object at 0x0000006B6DA69160>,\n",
       "        <matplotlib.axes._subplots.AxesSubplot object at 0x0000006B6DA97710>]],\n",
       "      dtype=object)"
      ]
     },
     "execution_count": 8,
     "metadata": {},
     "output_type": "execute_result"
    },
    {
     "data": {
      "image/png": "[encoded data removed]",
      "text/plain": [
       "<Figure size 1440x1080 with 12 Axes>"
      ]
     },
     "metadata": {
      "needs_background": "light"
     },
     "output_type": "display_data"
    }
   ],
   "source": [
    "#plotting graphs by using matplotlib library\n",
    "%matplotlib inline\n",
    "import matplotlib.pyplot as plt\n",
    "salary.hist(bins=50, figsize=(20, 15))"
   ]
  },
  {
   "cell_type": "code",
   "execution_count": 9,
   "metadata": {},
   "outputs": [],
   "source": [
    "#defining a function for dividing whole data into 2 sets training and testing data\n",
    "import numpy as np\n",
    "def split_train_test(data, test_ratio):\n",
    "    np.random.seed(42)\n",
    "    shuffled = np.random.permutation(len(data))\n",
    "    print(shuffled)\n",
    "    test_set_size = int(len(data) * test_ratio)\n",
    "    test_indices = shuffled[:test_set_size]\n",
    "    train_indices = shuffled[:test_set_size:]\n",
    "    return data.iloc[train_indices], data.iloc[test_indices]"
   ]
  },
  {
   "cell_type": "code",
   "execution_count": 10,
   "metadata": {},
   "outputs": [
    {
     "name": "stdout",
     "output_type": "stream",
     "text": [
      "Rows in train set: 26048\n",
      "Rows in test set: 6513\n",
      "\n"
     ]
    },
    {
     "data": {
      "text/plain": [
       "32561"
      ]
     },
     "execution_count": 10,
     "metadata": {},
     "output_type": "execute_result"
    }
   ],
   "source": [
    "#using sklearn library for splitting whole data into testing data and training data\n",
    "from sklearn.model_selection import train_test_split\n",
    "#splitting in ration 80% = train and 20% = test\n",
    "train_set, test_set  = train_test_split(salary, test_size=0.2, random_state=42)\n",
    "print(f\"Rows in train set: {len(train_set)}\\nRows in test set: {len(test_set)}\\n\")\n",
    "len(salary) #length of actual data"
   ]
  },
  {
   "cell_type": "code",
   "execution_count": 11,
   "metadata": {},
   "outputs": [],
   "source": [
    "#testing if a specific feature is divided in the same ratio or not\n",
    "from sklearn.model_selection import StratifiedShuffleSplit\n",
    "split = StratifiedShuffleSplit(n_splits=1, test_size=0.2, random_state=42)\n",
    "for train_index, test_index in split.split(salary, salary['SEX']):\n",
    "    strat_train_set = salary.loc[train_index]\n",
    "    strat_test_set = salary.loc[test_index]"
   ]
  },
  {
   "cell_type": "code",
   "execution_count": 12,
   "metadata": {},
   "outputs": [
    {
     "data": {
      "text/plain": [
       "2    4359\n",
       "1    2154\n",
       "Name: SEX, dtype: int64"
      ]
     },
     "execution_count": 12,
     "metadata": {},
     "output_type": "execute_result"
    }
   ],
   "source": [
    "strat_test_set['SEX'].value_counts()"
   ]
  },
  {
   "cell_type": "code",
   "execution_count": 13,
   "metadata": {},
   "outputs": [
    {
     "data": {
      "text/plain": [
       "2    17431\n",
       "1     8617\n",
       "Name: SEX, dtype: int64"
      ]
     },
     "execution_count": 13,
     "metadata": {},
     "output_type": "execute_result"
    }
   ],
   "source": [
    "strat_train_set['SEX'].value_counts()"
   ]
  },
  {
   "cell_type": "code",
   "execution_count": 14,
   "metadata": {},
   "outputs": [
    {
     "data": {
      "text/plain": [
       "2.0236768802228413"
      ]
     },
     "execution_count": 14,
     "metadata": {},
     "output_type": "execute_result"
    }
   ],
   "source": [
    "4359/2154 #testing data"
   ]
  },
  {
   "cell_type": "code",
   "execution_count": 15,
   "metadata": {},
   "outputs": [
    {
     "data": {
      "text/plain": [
       "2.022861784843913"
      ]
     },
     "execution_count": 15,
     "metadata": {},
     "output_type": "execute_result"
    }
   ],
   "source": [
    "17431/8617  #training data"
   ]
  },
  {
   "cell_type": "code",
   "execution_count": 16,
   "metadata": {},
   "outputs": [],
   "source": [
    "salary = strat_train_set.copy() #firstly using for training dataset"
   ]
  },
  {
   "cell_type": "code",
   "execution_count": 17,
   "metadata": {},
   "outputs": [
    {
     "data": {
      "text/plain": [
       "CLASS             1.000000\n",
       "MARITAL-STATUS    0.378353\n",
       "RELATIONSHIP      0.173779\n",
       "RACE              0.095323\n",
       "FNLWGT            0.007646\n",
       "CAPITAL-LOSS     -0.158661\n",
       "EDUCATION        -0.216362\n",
       "SEX              -0.216546\n",
       "CAPITAL-GAIN     -0.222175\n",
       "HOURS-PER-WEEK   -0.229226\n",
       "AGE              -0.230210\n",
       "EDUCATION-NUM    -0.334458\n",
       "Name: CLASS, dtype: float64"
      ]
     },
     "execution_count": 17,
     "metadata": {},
     "output_type": "execute_result"
    }
   ],
   "source": [
    "#checking the correlation of all features with respect to class feature which states whether a salary is above or below 50k\n",
    "corr_matrix = salary.corr()\n",
    "corr_matrix['CLASS'].sort_values(ascending=False)"
   ]
  },
  {
   "cell_type": "code",
   "execution_count": 18,
   "metadata": {},
   "outputs": [
    {
     "data": {
      "text/plain": [
       "array([[<matplotlib.axes._subplots.AxesSubplot object at 0x0000006B6E971710>,\n",
       "        <matplotlib.axes._subplots.AxesSubplot object at 0x0000006B713F5748>,\n",
       "        <matplotlib.axes._subplots.AxesSubplot object at 0x0000006B71426CF8>,\n",
       "        <matplotlib.axes._subplots.AxesSubplot object at 0x0000006B714622E8>],\n",
       "       [<matplotlib.axes._subplots.AxesSubplot object at 0x0000006B71494898>,\n",
       "        <matplotlib.axes._subplots.AxesSubplot object at 0x0000006B714C7E48>,\n",
       "        <matplotlib.axes._subplots.AxesSubplot object at 0x0000006B71503400>,\n",
       "        <matplotlib.axes._subplots.AxesSubplot object at 0x0000006B715359E8>],\n",
       "       [<matplotlib.axes._subplots.AxesSubplot object at 0x0000006B71535A20>,\n",
       "        <matplotlib.axes._subplots.AxesSubplot object at 0x0000006B715A4550>,\n",
       "        <matplotlib.axes._subplots.AxesSubplot object at 0x0000006B715D5B00>,\n",
       "        <matplotlib.axes._subplots.AxesSubplot object at 0x0000006B716170F0>],\n",
       "       [<matplotlib.axes._subplots.AxesSubplot object at 0x0000006B716446A0>,\n",
       "        <matplotlib.axes._subplots.AxesSubplot object at 0x0000006B71676C50>,\n",
       "        <matplotlib.axes._subplots.AxesSubplot object at 0x0000006B716B6240>,\n",
       "        <matplotlib.axes._subplots.AxesSubplot object at 0x0000006B716E47F0>]],\n",
       "      dtype=object)"
      ]
     },
     "execution_count": 18,
     "metadata": {},
     "output_type": "execute_result"
    },
    {
     "data": {
      "image/png": "[encoded data removed]",
      "text/plain": [
       "<Figure size 864x576 with 16 Axes>"
      ]
     },
     "metadata": {
      "needs_background": "light"
     },
     "output_type": "display_data"
    }
   ],
   "source": [
    "#using scatter plot for 4 features\n",
    "#comapring featues with one another\n",
    "from pandas.plotting import scatter_matrix\n",
    "attributes = [\"CLASS\", \"AGE\", \"SEX\", \"EDUCATION\"]\n",
    "scatter_matrix(salary[attributes], figsize = (12,8))"
   ]
  },
  {
   "cell_type": "code",
   "execution_count": 19,
   "metadata": {},
   "outputs": [],
   "source": [
    "#dropping the feature \"class\" from actual training data to train the model and keeping it into another variable named salary_labels\n",
    "salary = strat_train_set.drop(\"CLASS\", axis=1)\n",
    "salary_labels = strat_train_set[\"CLASS\"].copy()"
   ]
  },
  {
   "cell_type": "code",
   "execution_count": 20,
   "metadata": {},
   "outputs": [
    {
     "data": {
      "text/plain": [
       "(26048, 11)"
      ]
     },
     "execution_count": 20,
     "metadata": {},
     "output_type": "execute_result"
    }
   ],
   "source": [
    "#Pandas dropna() method allows the user to analyze and drop Rows/Columns with Null values in different ways\n",
    "a = salary.dropna(subset=[\"AGE\"]) \n",
    "a.shape"
   ]
  },
  {
   "cell_type": "code",
   "execution_count": 21,
   "metadata": {},
   "outputs": [
    {
     "data": {
      "text/plain": [
       "(26048, 10)"
      ]
     },
     "execution_count": 21,
     "metadata": {},
     "output_type": "execute_result"
    }
   ],
   "source": [
    "#“axis 0” represents rows and “axis 1” represents columns.\n",
    "salary.drop(\"AGE\", axis=1).shape"
   ]
  },
  {
   "cell_type": "code",
   "execution_count": 22,
   "metadata": {},
   "outputs": [
    {
     "data": {
      "text/plain": [
       "37.0"
      ]
     },
     "execution_count": 22,
     "metadata": {},
     "output_type": "execute_result"
    }
   ],
   "source": [
    "median = salary[\"AGE\"].median() \n",
    "median"
   ]
  },
  {
   "cell_type": "code",
   "execution_count": 23,
   "metadata": {},
   "outputs": [
    {
     "data": {
      "text/plain": [
       "30003    20.0\n",
       "27833    29.0\n",
       "17789    42.0\n",
       "18637    48.0\n",
       "3423     43.0\n",
       "         ... \n",
       "1841     34.0\n",
       "14956    61.0\n",
       "20543    31.0\n",
       "13018    32.0\n",
       "22067    48.0\n",
       "Name: AGE, Length: 26048, dtype: float64"
      ]
     },
     "execution_count": 23,
     "metadata": {},
     "output_type": "execute_result"
    }
   ],
   "source": [
    "#filling null values with median\n",
    "salary[\"AGE\"].fillna(median)"
   ]
  },
  {
   "cell_type": "code",
   "execution_count": 24,
   "metadata": {},
   "outputs": [
    {
     "data": {
      "text/plain": [
       "(26048, 11)"
      ]
     },
     "execution_count": 24,
     "metadata": {},
     "output_type": "execute_result"
    }
   ],
   "source": [
    "#check number of rows and columns in data\n",
    "salary.shape"
   ]
  },
  {
   "cell_type": "code",
   "execution_count": 25,
   "metadata": {},
   "outputs": [
    {
     "data": {
      "text/html": [
       "<div>\n",
       "<style scoped>\n",
       "    .dataframe tbody tr th:only-of-type {\n",
       "        vertical-align: middle;\n",
       "    }\n",
       "\n",
       "    .dataframe tbody tr th {\n",
       "        vertical-align: top;\n",
       "    }\n",
       "\n",
       "    .dataframe thead th {\n",
       "        text-align: right;\n",
       "    }\n",
       "</style>\n",
       "<table border=\"1\" class=\"dataframe\">\n",
       "  <thead>\n",
       "    <tr style=\"text-align: right;\">\n",
       "      <th></th>\n",
       "      <th>AGE</th>\n",
       "      <th>CAPITAL-LOSS</th>\n",
       "      <th>FNLWGT</th>\n",
       "      <th>EDUCATION</th>\n",
       "      <th>EDUCATION-NUM</th>\n",
       "      <th>MARITAL-STATUS</th>\n",
       "      <th>HOURS-PER-WEEK</th>\n",
       "      <th>RELATIONSHIP</th>\n",
       "      <th>RACE</th>\n",
       "      <th>SEX</th>\n",
       "      <th>CAPITAL-GAIN</th>\n",
       "    </tr>\n",
       "  </thead>\n",
       "  <tbody>\n",
       "    <tr>\n",
       "      <th>count</th>\n",
       "      <td>26048.000000</td>\n",
       "      <td>26048.000000</td>\n",
       "      <td>2.604800e+04</td>\n",
       "      <td>26048.000000</td>\n",
       "      <td>26048.000000</td>\n",
       "      <td>26048.000000</td>\n",
       "      <td>26048.000000</td>\n",
       "      <td>26048.000000</td>\n",
       "      <td>26048.000000</td>\n",
       "      <td>26048.000000</td>\n",
       "      <td>26048.000000</td>\n",
       "    </tr>\n",
       "    <tr>\n",
       "      <th>mean</th>\n",
       "      <td>38.595478</td>\n",
       "      <td>86.201129</td>\n",
       "      <td>1.895131e+05</td>\n",
       "      <td>8.903601</td>\n",
       "      <td>10.080697</td>\n",
       "      <td>2.074439</td>\n",
       "      <td>40.474163</td>\n",
       "      <td>3.384751</td>\n",
       "      <td>1.361371</td>\n",
       "      <td>1.669188</td>\n",
       "      <td>1043.186387</td>\n",
       "    </tr>\n",
       "    <tr>\n",
       "      <th>std</th>\n",
       "      <td>13.635221</td>\n",
       "      <td>399.801138</td>\n",
       "      <td>1.052695e+05</td>\n",
       "      <td>2.409995</td>\n",
       "      <td>2.563977</td>\n",
       "      <td>1.184624</td>\n",
       "      <td>12.343683</td>\n",
       "      <td>1.237771</td>\n",
       "      <td>0.932625</td>\n",
       "      <td>0.470515</td>\n",
       "      <td>7164.871380</td>\n",
       "    </tr>\n",
       "    <tr>\n",
       "      <th>min</th>\n",
       "      <td>17.000000</td>\n",
       "      <td>0.000000</td>\n",
       "      <td>1.376900e+04</td>\n",
       "      <td>0.000000</td>\n",
       "      <td>1.000000</td>\n",
       "      <td>1.000000</td>\n",
       "      <td>1.000000</td>\n",
       "      <td>1.000000</td>\n",
       "      <td>1.000000</td>\n",
       "      <td>1.000000</td>\n",
       "      <td>0.000000</td>\n",
       "    </tr>\n",
       "    <tr>\n",
       "      <th>25%</th>\n",
       "      <td>28.000000</td>\n",
       "      <td>0.000000</td>\n",
       "      <td>1.179620e+05</td>\n",
       "      <td>8.000000</td>\n",
       "      <td>9.000000</td>\n",
       "      <td>1.000000</td>\n",
       "      <td>40.000000</td>\n",
       "      <td>3.000000</td>\n",
       "      <td>1.000000</td>\n",
       "      <td>1.000000</td>\n",
       "      <td>0.000000</td>\n",
       "    </tr>\n",
       "    <tr>\n",
       "      <th>50%</th>\n",
       "      <td>37.000000</td>\n",
       "      <td>0.000000</td>\n",
       "      <td>1.781770e+05</td>\n",
       "      <td>9.000000</td>\n",
       "      <td>10.000000</td>\n",
       "      <td>2.000000</td>\n",
       "      <td>40.000000</td>\n",
       "      <td>3.000000</td>\n",
       "      <td>1.000000</td>\n",
       "      <td>2.000000</td>\n",
       "      <td>0.000000</td>\n",
       "    </tr>\n",
       "    <tr>\n",
       "      <th>75%</th>\n",
       "      <td>48.000000</td>\n",
       "      <td>0.000000</td>\n",
       "      <td>2.365990e+05</td>\n",
       "      <td>10.000000</td>\n",
       "      <td>12.000000</td>\n",
       "      <td>3.000000</td>\n",
       "      <td>45.000000</td>\n",
       "      <td>4.000000</td>\n",
       "      <td>1.000000</td>\n",
       "      <td>2.000000</td>\n",
       "      <td>0.000000</td>\n",
       "    </tr>\n",
       "    <tr>\n",
       "      <th>max</th>\n",
       "      <td>90.000000</td>\n",
       "      <td>4356.000000</td>\n",
       "      <td>1.484705e+06</td>\n",
       "      <td>15.000000</td>\n",
       "      <td>16.000000</td>\n",
       "      <td>7.000000</td>\n",
       "      <td>99.000000</td>\n",
       "      <td>6.000000</td>\n",
       "      <td>4.000000</td>\n",
       "      <td>2.000000</td>\n",
       "      <td>99999.000000</td>\n",
       "    </tr>\n",
       "  </tbody>\n",
       "</table>\n",
       "</div>"
      ],
      "text/plain": [
       "                AGE  CAPITAL-LOSS        FNLWGT     EDUCATION  EDUCATION-NUM  \\\n",
       "count  26048.000000  26048.000000  2.604800e+04  26048.000000   26048.000000   \n",
       "mean      38.595478     86.201129  1.895131e+05      8.903601      10.080697   \n",
       "std       13.635221    399.801138  1.052695e+05      2.409995       2.563977   \n",
       "min       17.000000      0.000000  1.376900e+04      0.000000       1.000000   \n",
       "25%       28.000000      0.000000  1.179620e+05      8.000000       9.000000   \n",
       "50%       37.000000      0.000000  1.781770e+05      9.000000      10.000000   \n",
       "75%       48.000000      0.000000  2.365990e+05     10.000000      12.000000   \n",
       "max       90.000000   4356.000000  1.484705e+06     15.000000      16.000000   \n",
       "\n",
       "       MARITAL-STATUS  HOURS-PER-WEEK  RELATIONSHIP          RACE  \\\n",
       "count    26048.000000    26048.000000  26048.000000  26048.000000   \n",
       "mean         2.074439       40.474163      3.384751      1.361371   \n",
       "std          1.184624       12.343683      1.237771      0.932625   \n",
       "min          1.000000        1.000000      1.000000      1.000000   \n",
       "25%          1.000000       40.000000      3.000000      1.000000   \n",
       "50%          2.000000       40.000000      3.000000      1.000000   \n",
       "75%          3.000000       45.000000      4.000000      1.000000   \n",
       "max          7.000000       99.000000      6.000000      4.000000   \n",
       "\n",
       "                SEX  CAPITAL-GAIN  \n",
       "count  26048.000000  26048.000000  \n",
       "mean       1.669188   1043.186387  \n",
       "std        0.470515   7164.871380  \n",
       "min        1.000000      0.000000  \n",
       "25%        1.000000      0.000000  \n",
       "50%        2.000000      0.000000  \n",
       "75%        2.000000      0.000000  \n",
       "max        2.000000  99999.000000  "
      ]
     },
     "execution_count": 25,
     "metadata": {},
     "output_type": "execute_result"
    }
   ],
   "source": [
    "salary.describe()"
   ]
  },
  {
   "cell_type": "code",
   "execution_count": 26,
   "metadata": {},
   "outputs": [],
   "source": [
    "#The SimpleImputer class provides basic strategies for imputing missing values.\n",
    "from sklearn.impute import SimpleImputer\n",
    "imputer = SimpleImputer(strategy=\"median\") #here we are imputing missing values with median for all features as doing manually as done above for age will be a bigger task. This libray reduces the work.\n",
    "#The get_dummies() function is used to convert categorical variable into dummy/indicator variables.\n",
    "salary = pd.get_dummies(salary)"
   ]
  },
  {
   "cell_type": "code",
   "execution_count": 27,
   "metadata": {},
   "outputs": [
    {
     "data": {
      "text/plain": [
       "SimpleImputer(add_indicator=False, copy=True, fill_value=None,\n",
       "              missing_values=nan, strategy='median', verbose=0)"
      ]
     },
     "execution_count": 27,
     "metadata": {},
     "output_type": "execute_result"
    }
   ],
   "source": [
    "imputer.fit(salary) #imputing data"
   ]
  },
  {
   "cell_type": "code",
   "execution_count": 28,
   "metadata": {},
   "outputs": [
    {
     "data": {
      "text/plain": [
       "array([3.70000e+01, 0.00000e+00, 1.78177e+05, 9.00000e+00, 1.00000e+01,\n",
       "       2.00000e+00, 4.00000e+01, 3.00000e+00, 1.00000e+00, 2.00000e+00,\n",
       "       0.00000e+00])"
      ]
     },
     "execution_count": 28,
     "metadata": {},
     "output_type": "execute_result"
    }
   ],
   "source": [
    "imputer.statistics_"
   ]
  },
  {
   "cell_type": "code",
   "execution_count": 29,
   "metadata": {},
   "outputs": [],
   "source": [
    "X = imputer.transform(salary) #transforming the data after imputing"
   ]
  },
  {
   "cell_type": "code",
   "execution_count": 30,
   "metadata": {},
   "outputs": [],
   "source": [
    "salary_tr = pd.DataFrame(X, columns=salary.columns)"
   ]
  },
  {
   "cell_type": "code",
   "execution_count": 31,
   "metadata": {},
   "outputs": [
    {
     "data": {
      "text/html": [
       "<div>\n",
       "<style scoped>\n",
       "    .dataframe tbody tr th:only-of-type {\n",
       "        vertical-align: middle;\n",
       "    }\n",
       "\n",
       "    .dataframe tbody tr th {\n",
       "        vertical-align: top;\n",
       "    }\n",
       "\n",
       "    .dataframe thead th {\n",
       "        text-align: right;\n",
       "    }\n",
       "</style>\n",
       "<table border=\"1\" class=\"dataframe\">\n",
       "  <thead>\n",
       "    <tr style=\"text-align: right;\">\n",
       "      <th></th>\n",
       "      <th>AGE</th>\n",
       "      <th>CAPITAL-LOSS</th>\n",
       "      <th>FNLWGT</th>\n",
       "      <th>EDUCATION</th>\n",
       "      <th>EDUCATION-NUM</th>\n",
       "      <th>MARITAL-STATUS</th>\n",
       "      <th>HOURS-PER-WEEK</th>\n",
       "      <th>RELATIONSHIP</th>\n",
       "      <th>RACE</th>\n",
       "      <th>SEX</th>\n",
       "      <th>CAPITAL-GAIN</th>\n",
       "    </tr>\n",
       "  </thead>\n",
       "  <tbody>\n",
       "    <tr>\n",
       "      <th>count</th>\n",
       "      <td>26048.000000</td>\n",
       "      <td>26048.000000</td>\n",
       "      <td>2.604800e+04</td>\n",
       "      <td>26048.000000</td>\n",
       "      <td>26048.000000</td>\n",
       "      <td>26048.000000</td>\n",
       "      <td>26048.000000</td>\n",
       "      <td>26048.000000</td>\n",
       "      <td>26048.000000</td>\n",
       "      <td>26048.000000</td>\n",
       "      <td>26048.000000</td>\n",
       "    </tr>\n",
       "    <tr>\n",
       "      <th>mean</th>\n",
       "      <td>38.595478</td>\n",
       "      <td>86.201129</td>\n",
       "      <td>1.895131e+05</td>\n",
       "      <td>8.903601</td>\n",
       "      <td>10.080697</td>\n",
       "      <td>2.074439</td>\n",
       "      <td>40.474163</td>\n",
       "      <td>3.384751</td>\n",
       "      <td>1.361371</td>\n",
       "      <td>1.669188</td>\n",
       "      <td>1043.186387</td>\n",
       "    </tr>\n",
       "    <tr>\n",
       "      <th>std</th>\n",
       "      <td>13.635221</td>\n",
       "      <td>399.801138</td>\n",
       "      <td>1.052695e+05</td>\n",
       "      <td>2.409995</td>\n",
       "      <td>2.563977</td>\n",
       "      <td>1.184624</td>\n",
       "      <td>12.343683</td>\n",
       "      <td>1.237771</td>\n",
       "      <td>0.932625</td>\n",
       "      <td>0.470515</td>\n",
       "      <td>7164.871380</td>\n",
       "    </tr>\n",
       "    <tr>\n",
       "      <th>min</th>\n",
       "      <td>17.000000</td>\n",
       "      <td>0.000000</td>\n",
       "      <td>1.376900e+04</td>\n",
       "      <td>0.000000</td>\n",
       "      <td>1.000000</td>\n",
       "      <td>1.000000</td>\n",
       "      <td>1.000000</td>\n",
       "      <td>1.000000</td>\n",
       "      <td>1.000000</td>\n",
       "      <td>1.000000</td>\n",
       "      <td>0.000000</td>\n",
       "    </tr>\n",
       "    <tr>\n",
       "      <th>25%</th>\n",
       "      <td>28.000000</td>\n",
       "      <td>0.000000</td>\n",
       "      <td>1.179620e+05</td>\n",
       "      <td>8.000000</td>\n",
       "      <td>9.000000</td>\n",
       "      <td>1.000000</td>\n",
       "      <td>40.000000</td>\n",
       "      <td>3.000000</td>\n",
       "      <td>1.000000</td>\n",
       "      <td>1.000000</td>\n",
       "      <td>0.000000</td>\n",
       "    </tr>\n",
       "    <tr>\n",
       "      <th>50%</th>\n",
       "      <td>37.000000</td>\n",
       "      <td>0.000000</td>\n",
       "      <td>1.781770e+05</td>\n",
       "      <td>9.000000</td>\n",
       "      <td>10.000000</td>\n",
       "      <td>2.000000</td>\n",
       "      <td>40.000000</td>\n",
       "      <td>3.000000</td>\n",
       "      <td>1.000000</td>\n",
       "      <td>2.000000</td>\n",
       "      <td>0.000000</td>\n",
       "    </tr>\n",
       "    <tr>\n",
       "      <th>75%</th>\n",
       "      <td>48.000000</td>\n",
       "      <td>0.000000</td>\n",
       "      <td>2.365990e+05</td>\n",
       "      <td>10.000000</td>\n",
       "      <td>12.000000</td>\n",
       "      <td>3.000000</td>\n",
       "      <td>45.000000</td>\n",
       "      <td>4.000000</td>\n",
       "      <td>1.000000</td>\n",
       "      <td>2.000000</td>\n",
       "      <td>0.000000</td>\n",
       "    </tr>\n",
       "    <tr>\n",
       "      <th>max</th>\n",
       "      <td>90.000000</td>\n",
       "      <td>4356.000000</td>\n",
       "      <td>1.484705e+06</td>\n",
       "      <td>15.000000</td>\n",
       "      <td>16.000000</td>\n",
       "      <td>7.000000</td>\n",
       "      <td>99.000000</td>\n",
       "      <td>6.000000</td>\n",
       "      <td>4.000000</td>\n",
       "      <td>2.000000</td>\n",
       "      <td>99999.000000</td>\n",
       "    </tr>\n",
       "  </tbody>\n",
       "</table>\n",
       "</div>"
      ],
      "text/plain": [
       "                AGE  CAPITAL-LOSS        FNLWGT     EDUCATION  EDUCATION-NUM  \\\n",
       "count  26048.000000  26048.000000  2.604800e+04  26048.000000   26048.000000   \n",
       "mean      38.595478     86.201129  1.895131e+05      8.903601      10.080697   \n",
       "std       13.635221    399.801138  1.052695e+05      2.409995       2.563977   \n",
       "min       17.000000      0.000000  1.376900e+04      0.000000       1.000000   \n",
       "25%       28.000000      0.000000  1.179620e+05      8.000000       9.000000   \n",
       "50%       37.000000      0.000000  1.781770e+05      9.000000      10.000000   \n",
       "75%       48.000000      0.000000  2.365990e+05     10.000000      12.000000   \n",
       "max       90.000000   4356.000000  1.484705e+06     15.000000      16.000000   \n",
       "\n",
       "       MARITAL-STATUS  HOURS-PER-WEEK  RELATIONSHIP          RACE  \\\n",
       "count    26048.000000    26048.000000  26048.000000  26048.000000   \n",
       "mean         2.074439       40.474163      3.384751      1.361371   \n",
       "std          1.184624       12.343683      1.237771      0.932625   \n",
       "min          1.000000        1.000000      1.000000      1.000000   \n",
       "25%          1.000000       40.000000      3.000000      1.000000   \n",
       "50%          2.000000       40.000000      3.000000      1.000000   \n",
       "75%          3.000000       45.000000      4.000000      1.000000   \n",
       "max          7.000000       99.000000      6.000000      4.000000   \n",
       "\n",
       "                SEX  CAPITAL-GAIN  \n",
       "count  26048.000000  26048.000000  \n",
       "mean       1.669188   1043.186387  \n",
       "std        0.470515   7164.871380  \n",
       "min        1.000000      0.000000  \n",
       "25%        1.000000      0.000000  \n",
       "50%        2.000000      0.000000  \n",
       "75%        2.000000      0.000000  \n",
       "max        2.000000  99999.000000  "
      ]
     },
     "execution_count": 31,
     "metadata": {},
     "output_type": "execute_result"
    }
   ],
   "source": [
    "salary_tr.describe()"
   ]
  },
  {
   "cell_type": "code",
   "execution_count": 32,
   "metadata": {},
   "outputs": [],
   "source": [
    "# Data pipelines allow you transform data from one representation to another through a series of steps.\n",
    "from sklearn.pipeline import Pipeline\n",
    "from sklearn.preprocessing import StandardScaler\n",
    "my_pipeline = Pipeline([\n",
    "    ('imputer', SimpleImputer(strategy=\"median\")),\n",
    "    \n",
    "    ('std_scaler', StandardScaler()),\n",
    "])\n"
   ]
  },
  {
   "cell_type": "code",
   "execution_count": 33,
   "metadata": {},
   "outputs": [],
   "source": [
    "salary_num_tr = my_pipeline.fit_transform(salary)"
   ]
  },
  {
   "cell_type": "code",
   "execution_count": 34,
   "metadata": {},
   "outputs": [
    {
     "data": {
      "text/plain": [
       "(26048, 11)"
      ]
     },
     "execution_count": 34,
     "metadata": {},
     "output_type": "execute_result"
    }
   ],
   "source": [
    "salary_num_tr.shape"
   ]
  },
  {
   "cell_type": "code",
   "execution_count": 35,
   "metadata": {},
   "outputs": [
    {
     "data": {
      "text/plain": [
       "RandomForestRegressor(bootstrap=True, ccp_alpha=0.0, criterion='mse',\n",
       "                      max_depth=None, max_features='auto', max_leaf_nodes=None,\n",
       "                      max_samples=None, min_impurity_decrease=0.0,\n",
       "                      min_impurity_split=None, min_samples_leaf=1,\n",
       "                      min_samples_split=2, min_weight_fraction_leaf=0.0,\n",
       "                      n_estimators=100, n_jobs=None, oob_score=False,\n",
       "                      random_state=None, verbose=0, warm_start=False)"
      ]
     },
     "execution_count": 35,
     "metadata": {},
     "output_type": "execute_result"
    }
   ],
   "source": [
    "#using different supervised learning models\n",
    "from sklearn.linear_model import LinearRegression\n",
    "from sklearn.tree import DecisionTreeRegressor\n",
    "from sklearn.ensemble import RandomForestRegressor\n",
    "#try using all models one by one and final the one with better accuracy\n",
    "# model = LinearRegression()\n",
    "# model = DecisionTreeRegressor()\n",
    "model = RandomForestRegressor() \n",
    "#comment the other 2 model function when using one\n",
    "model.fit(salary_num_tr, salary_labels)"
   ]
  },
  {
   "cell_type": "code",
   "execution_count": 36,
   "metadata": {},
   "outputs": [],
   "source": [
    "some_data = salary.iloc[:5] #checking for only some data(first 5 rows)"
   ]
  },
  {
   "cell_type": "code",
   "execution_count": 37,
   "metadata": {},
   "outputs": [],
   "source": [
    "some_labels = salary_labels.iloc[:5]"
   ]
  },
  {
   "cell_type": "code",
   "execution_count": 38,
   "metadata": {},
   "outputs": [],
   "source": [
    "prepared_data = my_pipeline.transform(some_data)"
   ]
  },
  {
   "cell_type": "code",
   "execution_count": 39,
   "metadata": {},
   "outputs": [
    {
     "data": {
      "text/plain": [
       "array([1.  , 1.  , 0.  , 0.  , 0.97])"
      ]
     },
     "execution_count": 39,
     "metadata": {},
     "output_type": "execute_result"
    }
   ],
   "source": [
    "model.predict(prepared_data) #prediction"
   ]
  },
  {
   "cell_type": "code",
   "execution_count": 40,
   "metadata": {},
   "outputs": [
    {
     "data": {
      "text/plain": [
       "[1, 1, 0, 0, 1]"
      ]
     },
     "execution_count": 40,
     "metadata": {},
     "output_type": "execute_result"
    }
   ],
   "source": [
    "list(some_labels) #actual result"
   ]
  },
  {
   "cell_type": "code",
   "execution_count": 41,
   "metadata": {},
   "outputs": [],
   "source": [
    "#checking for errors\n",
    "from sklearn.metrics import mean_squared_error\n",
    "salary_predictions = model.predict(salary_num_tr)\n",
    "mse = mean_squared_error(salary_labels, salary_predictions)\n",
    "rmse = np.sqrt(mse)"
   ]
  },
  {
   "cell_type": "code",
   "execution_count": 42,
   "metadata": {},
   "outputs": [
    {
     "data": {
      "text/plain": [
       "0.12356199763527655"
      ]
     },
     "execution_count": 42,
     "metadata": {},
     "output_type": "execute_result"
    }
   ],
   "source": [
    "rmse #root mean squared errors"
   ]
  },
  {
   "cell_type": "code",
   "execution_count": 43,
   "metadata": {},
   "outputs": [],
   "source": [
    "#cross_val_score returns score of test fold where cross_val_predict returns predicted y values for the test fold. For the cross_val_score() , you are using the average of the output, which will be affected by the number of folds because then it may have some folds which may have high error (not fit correctly).\n",
    "from sklearn.model_selection import cross_val_score\n",
    "scores = cross_val_score(model, salary_num_tr, salary_labels, scoring=\"neg_mean_squared_error\", cv=10)\n",
    "rmse_scores = np.sqrt(-scores)"
   ]
  },
  {
   "cell_type": "code",
   "execution_count": 44,
   "metadata": {},
   "outputs": [
    {
     "data": {
      "text/plain": [
       "array([0.32912533, 0.32501414, 0.32835345, 0.32606334, 0.32816171,\n",
       "       0.32285252, 0.33343898, 0.32811305, 0.32690028, 0.34021508])"
      ]
     },
     "execution_count": 44,
     "metadata": {},
     "output_type": "execute_result"
    }
   ],
   "source": [
    "rmse_scores"
   ]
  },
  {
   "cell_type": "code",
   "execution_count": 45,
   "metadata": {},
   "outputs": [],
   "source": [
    "def print_scores(scores):\n",
    "    print(\"Scores:\", scores)\n",
    "    print(\"Mean: \", scores.mean())\n",
    "    print(\"Standard deviation: \", scores.std())"
   ]
  },
  {
   "cell_type": "code",
   "execution_count": 46,
   "metadata": {},
   "outputs": [
    {
     "name": "stdout",
     "output_type": "stream",
     "text": [
      "Scores: [0.32912533 0.32501414 0.32835345 0.32606334 0.32816171 0.32285252\n",
      " 0.33343898 0.32811305 0.32690028 0.34021508]\n",
      "Mean:  0.32882378664263684\n",
      "Standard deviation:  0.004623922441399688\n"
     ]
    }
   ],
   "source": [
    "print_scores(rmse_scores)"
   ]
  },
  {
   "cell_type": "code",
   "execution_count": 47,
   "metadata": {},
   "outputs": [
    {
     "data": {
      "text/plain": [
       "['Salary.joblib']"
      ]
     },
     "execution_count": 47,
     "metadata": {},
     "output_type": "execute_result"
    }
   ],
   "source": [
    "#Joblib is a set of tools to provide lightweight pipelining in Python. In particular, joblib offers: transparent disk-caching of the output values and lazy re-evaluation (memoize pattern) easy simple parallel computing.\n",
    "from joblib import dump, load\n",
    "dump(model, 'Salary.joblib') # a file named Salary.joblib will be created"
   ]
  },
  {
   "cell_type": "code",
   "execution_count": 48,
   "metadata": {},
   "outputs": [],
   "source": [
    "X_test = strat_test_set.drop(\"CLASS\", axis=1)\n",
    "Y_test = strat_test_set[\"CLASS\"].copy()\n",
    "X_test = pd.get_dummies(X_test)"
   ]
  },
  {
   "cell_type": "code",
   "execution_count": 49,
   "metadata": {},
   "outputs": [],
   "source": [
    "X_test_prepared = my_pipeline.transform(X_test)"
   ]
  },
  {
   "cell_type": "code",
   "execution_count": 50,
   "metadata": {},
   "outputs": [],
   "source": [
    "final_predictions = model.predict(X_test_prepared)\n",
    "final_mse = mean_squared_error(Y_test, final_predictions)\n",
    "final_rmse = np.sqrt(final_mse)\n",
    "# print(final_predictions, list(Y_test))"
   ]
  },
  {
   "cell_type": "code",
   "execution_count": 51,
   "metadata": {},
   "outputs": [
    {
     "data": {
      "text/plain": [
       "0.33018347362287154"
      ]
     },
     "execution_count": 51,
     "metadata": {},
     "output_type": "execute_result"
    }
   ],
   "source": [
    "final_rmse"
   ]
  },
  {
   "cell_type": "code",
   "execution_count": 52,
   "metadata": {
    "scrolled": true
   },
   "outputs": [
    {
     "data": {
      "text/plain": [
       "array([-1.36380884, -0.21561415,  0.21331262,  0.45494702, -0.03147405,\n",
       "        0.7813264 , -2.06378045, -1.1187672 , -0.38748499, -1.42227346,\n",
       "       -0.14560016])"
      ]
     },
     "execution_count": 52,
     "metadata": {},
     "output_type": "execute_result"
    }
   ],
   "source": [
    "prepared_data[0]"
   ]
  },
  {
   "cell_type": "code",
   "execution_count": 53,
   "metadata": {},
   "outputs": [
    {
     "data": {
      "text/plain": [
       "array([0.04])"
      ]
     },
     "execution_count": 53,
     "metadata": {},
     "output_type": "execute_result"
    }
   ],
   "source": [
    "#now try to predict output by giving all input required\n",
    "from joblib import dump, load\n",
    "import numpy as np\n",
    "model = load('Salary.joblib') \n",
    "#AGE = 39\n",
    "#Capital-loss = 0\n",
    "#FNLWGT = 77516\n",
    "#EDUCATION = 9(bachelors)\n",
    "#EDUCATION-NUM = 13\n",
    "#MARITAL-STATUS = 3(never-married)\n",
    "#HOURS-PER-WEEK = 40\n",
    "#RELATIONSHIP = 4(not in family)\n",
    "#RACE =1(white)\n",
    "#SEX = 2(male)\n",
    "#CAPITAL-GAIN = 2174\n",
    "features = np.array([[39, 0, 77516, 9, 13, 3, 40, 4, 1, 2, 2174]])\n",
    "model.predict(features)"
   ]
  },
  {
   "cell_type": "code",
   "execution_count": 54,
   "metadata": {},
   "outputs": [],
   "source": [
    "#if prediction is greater than array([0.5]) : salary is greater than 50k\n",
    "#if prediction is less than or equal to array([0.5]) : salary is less than or equal to 50k\n",
    "#try to convert this data into GUI format using tkinter"
   ]
  },
  {
   "cell_type": "code",
   "execution_count": null,
   "metadata": {},
   "outputs": [],
   "source": []
  }
 ],
 "metadata": {
  "kernelspec": {
   "display_name": "Python 3",
   "language": "python",
   "name": "python3"
  },
  "language_info": {
   "codemirror_mode": {
    "name": "ipython",
    "version": 3
   },
   "file_extension": ".py",
   "mimetype": "text/x-python",
   "name": "python",
   "nbconvert_exporter": "python",
   "pygments_lexer": "ipython3",
   "version": "3.7.3"
  }
 },
 "nbformat": 4,
 "nbformat_minor": 2
}
